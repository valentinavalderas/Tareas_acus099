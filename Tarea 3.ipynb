{
 "cells": [
  {
   "cell_type": "markdown",
   "id": "c3c63361-f9bd-4676-a09b-dd31f0d9634d",
   "metadata": {},
   "source": [
    "<img src=\"Escudo_uaustralchile.png\" style=\"height=100px;display: block;margin-left:auto;margin-right:auto\"/>"
   ]
  },
  {
   "cell_type": "markdown",
   "id": "16a9bed8-4179-4cdd-ae56-2d5d0c7c032a",
   "metadata": {},
   "source": [
    "# Integrantes:\n",
    "+ Kamila Gamboa (kamila dot gamboa at alumnos dot uach dot cl)\n",
    "+ Valentina Valderas (valentina dot valderas at alumnos dot uach dot cl)"
   ]
  },
  {
   "cell_type": "markdown",
   "id": "58095c8b-e98f-4d2c-8934-40ec5b292a87",
   "metadata": {},
   "source": [
    "# Profesor y ayudante:\n",
    "+ Victor Poblete\n",
    "+ Esteban Vargas"
   ]
  },
  {
   "cell_type": "markdown",
   "id": "5edcfd79-ab85-47b6-9a3f-ccdb4dfe0e8f",
   "metadata": {},
   "source": [
    "# Fecha:\n",
    "+ 19 de Julio del 2024"
   ]
  },
  {
   "cell_type": "markdown",
   "id": "fd64eff4-875f-4c25-b250-03d33df21552",
   "metadata": {},
   "source": [
    "# Objetivos:\n",
    "> + Explicar el proceso de ventaneo de una señal.\n",
    "> + Crear una función que divida una señal en frames (ventanas).\n",
    "> + Aplicar Transformada rápida de Fourier (Fast Fourier Transform (FFT)) a frames de la señal.\n",
    "> + Realizar ventaneo y aplicar funciones correspondientes a diferentes tipos de audios."
   ]
  },
  {
   "cell_type": "markdown",
   "id": "4983fe44-d47d-4bde-913a-cec1ca814e3a",
   "metadata": {},
   "source": [
    "+ Para poder realizar el ventaneo y posteriormente aplicar la FFT se importan las librerias necesarias."
   ]
  },
  {
   "cell_type": "code",
   "execution_count": null,
   "id": "a60026a1-6691-4d35-a991-06b342ff4c38",
   "metadata": {},
   "outputs": [],
   "source": [
    "import numpy as np\n",
    "import librosa as lib\n",
    "import matplotlib.pyplot as plt\n",
    "from IPython.display import Audio\n",
    "from scipy import signal\n",
    "from scipy.fft import fft,ifft,fftshift"
   ]
  },
  {
   "cell_type": "markdown",
   "id": "23bdd49f-9541-4c83-aa16-fce7d8f2b4b8",
   "metadata": {},
   "source": [
    "+ Para poder explicar el ventaneo y la transformada rápida de fourier, se necesita una señal de ejemplo. En este caso, se utilizará un audio."
   ]
  },
  {
   "cell_type": "code",
   "execution_count": null,
   "id": "1c31f924-7f84-4053-bdc8-110de41d1bc2",
   "metadata": {},
   "outputs": [],
   "source": [
    "sig,fs=lib.load(\"voice-near.wav\",sr=44100)"
   ]
  },
  {
   "cell_type": "markdown",
   "id": "55f630f7-fa6f-493c-b80e-91f8b27c521f",
   "metadata": {},
   "source": [
    "+ Para dividir la señal en frames (ventanas) se necesita de una función"
   ]
  },
  {
   "cell_type": "code",
   "execution_count": 1,
   "id": "aac079ce-1a19-4785-a899-3d814dd87444",
   "metadata": {},
   "outputs": [],
   "source": [
    "def frames(x,nfft,overlap):\n",
    "    x=x.tolist()\n",
    "    num_f=int(round(len(x)/(nfft-(nfft*overlap))))\n",
    "    print(num_f)\n",
    "    matriz_frames=[]\n",
    "    for i in range(num_f):\n",
    "        frame=x[i*round(nfft*overlap):i*round(nfft*overlap)+nfft]\n",
    "        while len(frame)<nfft:\n",
    "            frame.append(0)\n",
    "        matriz_frames.append(frame)\n",
    "    matf=np.array(matriz_frames)\n",
    "    return matf"
   ]
  },
  {
   "cell_type": "markdown",
   "id": "1f316e6e-9291-4165-af66-52fb232851e8",
   "metadata": {},
   "source": [
    "+ Ahora, como muestra la función, se necesita de 3 variables; la señal, el largo del que se quiere cada ventana (nfft) y el porcentaje de traslape (overlap).\n",
    "+ Además, para suavizar cada frame, con el fin de que no se duplique información, se necesita una función ventana (window). En este caso se utilizará la función de Hann para el mismo largo de cada frame (nfft)."
   ]
  },
  {
   "cell_type": "code",
   "execution_count": null,
   "id": "9b8c140d-c38c-4404-b9f4-483f69677ed2",
   "metadata": {},
   "outputs": [],
   "source": [
    "nfft=1024\n",
    "overlap=0.5\n",
    "window = signal.windows.hann(nfft)"
   ]
  },
  {
   "cell_type": "markdown",
   "id": "150015ae-0dbf-4402-bd65-69ed0c7349b3",
   "metadata": {},
   "source": [
    "+ Ya teniendo la función y habiendo fijado los valores de las variables, se aplica la función de ventaneo para dividir en frames y la función de ventana, que \"suaviza\" el inicio y final de cada frame, a todos los frames."
   ]
  },
  {
   "cell_type": "code",
   "execution_count": null,
   "id": "28ac4298-d563-4e41-b16b-d7a0a70e24ea",
   "metadata": {},
   "outputs": [],
   "source": [
    "sig_frames=frames(sig,nfft,overlap)\n",
    "matriz_frames=np.multiply(sig_frames,window)"
   ]
  }
 ],
 "metadata": {
  "kernelspec": {
   "display_name": "acus099",
   "language": "python",
   "name": "acus099"
  },
  "language_info": {
   "codemirror_mode": {
    "name": "ipython",
    "version": 3
   },
   "file_extension": ".py",
   "mimetype": "text/x-python",
   "name": "python",
   "nbconvert_exporter": "python",
   "pygments_lexer": "ipython3",
   "version": "3.9.18"
  }
 },
 "nbformat": 4,
 "nbformat_minor": 5
}
