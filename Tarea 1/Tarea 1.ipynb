{
 "cells": [
  {
   "cell_type": "markdown",
   "id": "804048eb",
   "metadata": {},
   "source": [
    "<img src=\"Escudo_uaustralchile.png\" style=\"height=100px;display: block;margin-left:auto;margin-right:auto\"/>"
   ]
  },
  {
   "cell_type": "markdown",
   "id": "74ab04e6-af6a-4ff6-a2eb-a03144588995",
   "metadata": {},
   "source": [
    "### Integrantes:\n",
    "+ Kamila Gamboa (kamila dot gamboa at alumnos dot uach dot cl)\n",
    "+ Valentina Valderas (valentina dot valderas at alumnos dot uach dot cl)"
   ]
  },
  {
   "cell_type": "markdown",
   "id": "2c13b630-adeb-416d-8ac3-59fabf692008",
   "metadata": {},
   "source": [
    "### Objetivos:\n",
    "> + El objetivo de esta tarea es describir los procedimientos de instalación de las herramientas de computación que se ocuparan en el curso.\n",
    "> + \n",
    "Las herramientas que se instalan son Miniconda, Visual Studio Code y Git\n",
    "> + Crear usuario en GitHub.\n",
    "> + Aprender a usar Markdown.own"
   ]
  },
  {
   "cell_type": "markdown",
   "id": "523a3f2f-daa1-45d7-b7b1-bed6a2cdf59a",
   "metadata": {},
   "source": [
    "# ¿Qué hemos aprendido en acus099?\n",
    "+ En esta tarea se explicará el proceso de instalación de Miniconda, Visual Studio Code y Git, el modo de uso de estas herramientas y de Jupyter notebook. "
   ]
  },
  {
   "cell_type": "markdown",
   "id": "8705fc7c-81af-454b-b261-243597638810",
   "metadata": {},
   "source": [
    "# Lo visto en clase:\n",
    "### Terminal\n",
    "+ Aprendimos a abrir el terminal del computador utilizando las teclas \"windows\" y \"r\", para luego escribir \"cmd\" en el ejecutador.\n",
    "### Miniconda\n",
    "+ Es un sistema de gestión de paquetes de código abierto y un sistema de gestión del entorno. Conda instala, ejecuta y actualiza rápidamente los paquetes y sus dependencias; y permite crear entornos de Python2 o de Python3 en el directorio personal.\n",
    "+ Para instalarlo vamos al siguiente link \"https://docs.anaconda.com/free/miniconda/\", el cual fue buscado previamente en google. Luego se apreta en windows, mac o linux y se siguen las instrucciones de instalación.\n",
    "+ Luego creamos un entorno virtual, el cual, es un espacio independiente a la instalación local, con el objetivo de aislar los recursos y librerías. Gracias a este concepto podemos tener distintos entornos virtuales con diferentes versiones de Python o de una librería concreta. Para crearlo utilizamos “conda create -n acus099”.\n",
    "+ Activamos el entorno utilizando \"conda activate acus099\".\n",
    "### Python\n",
    "+ Instalamos python 3.9.4 en el entorno creado.\n",
    "### Git\n",
    "+ Software de control de versiones .\n",
    "+ Tras haber instalado [Git](https://git-scm.com/) en el computador, se debe crear un usuario en [GitHub](https://github.com/). Para poder crear el usuario solo se necesita un correo electrónico, posteriormente se crea una contraseña y nombre de usuario. Una vez creado y verificado el usuario en GitHub se debe ingresar con el usuario en [Visual Studio Code](https://code.visualstudio.com/).\n",
    "+ Aprendimos a crear, clonar y usar repositorios.\n",
    "### Visual Studio Code\n",
    "+ Para instalar Visual Studio vamos al siguiente link: [Pág. para instalar VSC](https://code.visualstudio.com/download) buscado en google. Al igual que miniconda, elegimos el sistema operativo que tenga nuestro computador y seguimos las instrucciones de instalación comunicadas en clase.\n",
    "+ Iniciamos sesión con la cuenta de GitHub con el fin de que las modificaciones que se hagan en el jupyter notebook de los repositorios en GitHub estén vinculados con el usuario personal.\n",
    "+ Instalamos varias extensiones, las cuales fueron indicadas en clase.\n",
    "### Librerías\n",
    "+ Para instalar librerias utilizamos \"conda install librería\" o \"pip install librería\"\n",
    "+ Las librerías instaladas hasta el momento son:\n",
    "  + numpy\n",
    "  + matplotlib\n",
    "  + librosa\n",
    "  + pysoundfile\n",
    "  + pandas\n",
    "  + scipy\n",
    "  + pyaudio\n",
    "  + wave"
   ]
  },
  {
   "cell_type": "markdown",
   "id": "6f2ab61f-621e-47c8-a83e-80b2d1f4ed63",
   "metadata": {},
   "source": [
    "### Jupyter Notebook\n",
    "+ Para instalarlo, escribimos en el entorno del terminal \"conda install jupyter notebook\"\n",
    "+ Para abrirlo debemos escribir “jupyter notebook” en el terminal y elegir el buscador de internet de nuestra preferencia.\n",
    "+ Aprendimos a crear cuadernillos, elegir si usar code o markdown, poner número a las líneas y cambiar el color del Jupyter.\n",
    "+ Aprendimos a usar markdown y latex, poniendo fotos, videos y links."
   ]
  },
  {
   "cell_type": "markdown",
   "id": "7cab8d76",
   "metadata": {},
   "source": [
    "### Veamos con ejemplos:\n",
    "+ Desde Jupyter notebook, previamente instalado y disponible en GitHub se pueden desarrollar documentos con el uso de Markdown. Para asegurarse de que la celda en la que se está trabajando está en el tipo Markdown, debe ver la parte superior izquierda del notebook de Jupyter.\n",
    "+ Para poder variar el tamaño de la fuente y así crear títulos, subtítulos, etc. se debe utilizar el simbolo numeral (#) seguido de un espacio al inicio de una celda de Markdown. A medida que se añadan más numerales, más pequeño se hace el tamaño de la fuente. A continuación se puede ver un ejemplo de un título (#), Subtítulo (##) y un texto (###).\n",
    "    # Título\n",
    "    ## Subtítulo\n",
    "    ### Texto\n",
    "    + La fuente de texto se puede poner de diferentes formas. Si se desea poner una palabra en cursiva se debe escribir la palabra entre asteríscos ( * ), uno por cada lado. Si se quisiera escribir en negrita, deben utilizarse dos asteríscos por cada lado y si se quiere utilizar ambas formas al mismo tiempo se debe poner tres asteríscos por cada lado de la palabra. A continuación se muestra un ejemplo de como se ve en cada forma.\\\n",
    "    *cursiva*\\\n",
    "    **negrita**\\\n",
    "    ***ambas***\n",
    "    + Si se quiere crear un punteo se debe utilizar el símbolo más (+) al inicio de la linea y luego un espacio antes del texto. Si además, se quiere incorporar una viñeta se debe anteponer al signo más el símbolo mayor (>) seguido de un espacio. A continuación se pueden ver ejemplos de ambos tipos de punteo.\n",
    "\n",
    "        + Forma 1 (+)\n",
    "        > + Forma 2 (> +)\n",
    "    + En Markdown también se pueden escribir ecuaciones utilizando el signo peso al inicio y final de la ecuación. Si se desea centrar se deben utilizar dos signos peso por cada lado de la ecuación. En el siguiente ejemplo se puede ver ambas formas.\\\n",
    "         $a^2+b^2=c^2$\\\n",
    "        $$a^2+b^2=c^2$$\n",
    "    + Para agregar un link se debe poner entre corchetes la palabra o frase que al cliquear dirija a una página web y junto a esto, sin espacio entremedio, entre paréntesis el link de la página elegida. Es decir, se debe anotar [Palabra/Frase] (link). A continuación se puede ver un ejemplo con la página de la Universidad Austral de Chile: [UACh](https://www.uach.cl/).\n",
    "    + Además, se puede insertar imágenes escribiendo un signo de exclamación (!), seguido de dos corchetes y por último entre paréntesis el nombre del archivo de la imágen junto con el formato de esta. Tal como se puede ver a continuación:\n",
    "      \n",
    "    ![](Escudo_uaustralchile.png)\n",
    "    + Utilizando una celda de Jupyter notebook en el modo de código se pueden utilizar funciones de python.\n",
    "    + Se pueden agregar videos, que podrán ser reproducidos directamente desde jupyter notebook, con el siguiente código. Entre paréntesis y comillas se encuentra la parte final del link del video de youtube, lo que va posterior al igual (=)."
   ]
  },
  {
   "cell_type": "code",
   "execution_count": 1,
   "id": "03b64b83",
   "metadata": {},
   "outputs": [
    {
     "data": {
      "image/jpeg": "[encoded data removed]",
      "text/html": [
       "\n",
       "        <iframe\n",
       "            width=\"400\"\n",
       "            height=\"300\"\n",
       "            src=\"https://www.youtube.com/embed/1R0ZUeRuPfk\"\n",
       "            frameborder=\"0\"\n",
       "            allowfullscreen\n",
       "            \n",
       "        ></iframe>\n",
       "        "
      ],
      "text/plain": [
       "<IPython.lib.display.YouTubeVideo at 0x25f71b47a30>"
      ]
     },
     "execution_count": 1,
     "metadata": {},
     "output_type": "execute_result"
    }
   ],
   "source": [
    "from IPython.display import YouTubeVideo\n",
    "YouTubeVideo(\"1R0ZUeRuPfk\")"
   ]
  },
  {
   "cell_type": "markdown",
   "id": "9e4f067f",
   "metadata": {},
   "source": [
    "+ Aprendimos algunos comandos shortcuts como \"esc + a\" para agregar una línea hacia arriba, \"esc + b\" para agregar una línea hacia abajo y \"esc + dd\" para borrar una línea.\n",
    "+ Aprendimos a importar librerías"
   ]
  },
  {
   "cell_type": "code",
   "execution_count": 2,
   "id": "b103a4f6-dce5-45df-8100-24fdd3fcd2f0",
   "metadata": {},
   "outputs": [
    {
     "name": "stdout",
     "output_type": "stream",
     "text": [
      "[-10.  -5.   0.   5.  10.]\n"
     ]
    }
   ],
   "source": [
    "import numpy as np\n",
    "x = np.linspace(-10, 10, 5) #Inicio, llegada, pasos\n",
    "print(x)"
   ]
  },
  {
   "cell_type": "code",
   "execution_count": 3,
   "id": "b7586ab4-3264-44f0-a4e8-1f5c17ed9049",
   "metadata": {},
   "outputs": [
    {
     "data": {
      "text/plain": [
       "(5,)"
      ]
     },
     "execution_count": 3,
     "metadata": {},
     "output_type": "execute_result"
    }
   ],
   "source": [
    "x.shape #Mide lo que contiene, en este caso son 5 filas"
   ]
  },
  {
   "cell_type": "markdown",
   "id": "61144648-38df-47b5-b8bd-b1dc5c8bc891",
   "metadata": {
    "vscode": {
     "languageId": "plaintext"
    }
   },
   "source": [
    "+ Aprendimos a usar for"
   ]
  },
  {
   "cell_type": "code",
   "execution_count": null,
   "id": "271712e9-127a-4808-a1db-c74c47a40843",
   "metadata": {},
   "outputs": [],
   "source": [
    "for n in range(1,11):\n",
    "    print(n)"
   ]
  },
  {
   "cell_type": "markdown",
   "id": "0cd6b8d7-8e8a-47d3-9f02-e9dc18b39cc7",
   "metadata": {},
   "source": [
    "+ Aprendimos a usar \"pwd\", directorio principal de trabajo, sirve cuando uno se pierden de donde se está trabajando\n",
    "+ Aprendimos a grabar un audio y poder reproducirlo después\n",
    "+ Aprendimos a crear una función "
   ]
  },
  {
   "cell_type": "code",
   "execution_count": 5,
   "id": "6d7a7315-415e-485d-a798-b4dfe5b732c4",
   "metadata": {},
   "outputs": [],
   "source": [
    "def delta(n,p):\n",
    "    #print(n)\n",
    "    return 1.*(n==p)"
   ]
  },
  {
   "cell_type": "markdown",
   "id": "a0804143-ce3b-42c9-9df9-d35f90efe1b4",
   "metadata": {},
   "source": [
    "+ Apredimos a crear gráficos con matplotlib"
   ]
  },
  {
   "cell_type": "code",
   "execution_count": 7,
   "id": "9cd2356d-a13b-430f-8856-6e682c8dd450",
   "metadata": {},
   "outputs": [
    {
     "data": {
      "image/png": "[encoded data removed]",
      "text/plain": [
       "<Figure size 1000x300 with 1 Axes>"
      ]
     },
     "metadata": {},
     "output_type": "display_data"
    }
   ],
   "source": [
    "n=np.arange(-5,5)\n",
    "import matplotlib.pyplot as plt\n",
    "plt.figure(figsize=(10,3))\n",
    "plt.figure(1)\n",
    "plt.stem(n,delta(n,-2));"
   ]
  },
  {
   "cell_type": "markdown",
   "id": "c4fa0bc4-26a8-4b95-af92-7c75526cdfb6",
   "metadata": {},
   "source": [
    "# Referencias\n",
    "> + [Git](https://git-scm.com/)\n",
    "> + [GitHub](https://github.com/valentinavalderas/Tareas_acus099)\n",
    "> + [Markdown](https://markdown.es/)\n",
    "> + [Miniconda](https://docs.anaconda.com/free/miniconda/index.html)\n",
    "> + [Visual Studio Code](https://code.visualstudio.com/)"
   ]
  }
 ],
 "metadata": {
  "kernelspec": {
   "display_name": "acus099",
   "language": "python",
   "name": "acus099"
  },
  "language_info": {
   "codemirror_mode": {
    "name": "ipython",
    "version": 3
   },
   "file_extension": ".py",
   "mimetype": "text/x-python",
   "name": "python",
   "nbconvert_exporter": "python",
   "pygments_lexer": "ipython3",
   "version": "3.9.4"
  }
 },
 "nbformat": 4,
 "nbformat_minor": 5
}
